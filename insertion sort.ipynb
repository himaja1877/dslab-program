{
  "nbformat": 4,
  "nbformat_minor": 0,
  "metadata": {
    "colab": {
      "provenance": [],
      "authorship_tag": "ABX9TyPVQy0CGK49pU9DuwuqZdxL",
      "include_colab_link": true
    },
    "kernelspec": {
      "name": "python3",
      "display_name": "Python 3"
    },
    "language_info": {
      "name": "python"
    }
  },
  "cells": [
    {
      "cell_type": "markdown",
      "metadata": {
        "id": "view-in-github",
        "colab_type": "text"
      },
      "source": [
        "<a href=\"https://colab.research.google.com/github/himaja1877/dslab-program/blob/main/insertion%20sort.ipynb\" target=\"_parent\"><img src=\"https://colab.research.google.com/assets/colab-badge.svg\" alt=\"Open In Colab\"/></a>"
      ]
    },
    {
      "cell_type": "code",
      "execution_count": null,
      "metadata": {
        "colab": {
          "base_uri": "https://localhost:8080/"
        },
        "id": "fM9IPHNVuWoV",
        "outputId": "770768c7-24c5-46e9-eb65-a45be267f99a"
      },
      "outputs": [
        {
          "output_type": "stream",
          "name": "stdout",
          "text": [
            "Enter the list: [10,5,3,9,11,-4,6]\n",
            "SORTED ARRAY IS:  -4 3 5 6 9 10 11 "
          ]
        }
      ],
      "source": [
        "#insertion sort\n",
        "def insertion_sort(l):\n",
        "    for i in range(1,len(l)):\n",
        "        for j in range(0,i):\n",
        "            if l[i]<l[j]:\n",
        "                l[i],l[j]=l[j],l[i]\n",
        "    return l\n",
        "\n",
        "l=eval(input(\"Enter the list: \"))\n",
        "insertion_sort(l)\n",
        "print(\"SORTED ARRAY IS: \",end=\" \")\n",
        "for i in l:\n",
        "  print(i,end=\" \")"
      ]
    }
  ]
}