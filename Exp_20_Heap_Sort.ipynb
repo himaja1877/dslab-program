{
  "nbformat": 4,
  "nbformat_minor": 0,
  "metadata": {
    "colab": {
      "provenance": [],
      "include_colab_link": true
    },
    "kernelspec": {
      "name": "python3",
      "display_name": "Python 3"
    },
    "language_info": {
      "name": "python"
    }
  },
  "cells": [
    {
      "cell_type": "markdown",
      "metadata": {
        "id": "view-in-github",
        "colab_type": "text"
      },
      "source": [
        "<a href=\"https://colab.research.google.com/github/himaja1877/dslab-program/blob/main/Exp_20_Heap_Sort.ipynb\" target=\"_parent\"><img src=\"https://colab.research.google.com/assets/colab-badge.svg\" alt=\"Open In Colab\"/></a>"
      ]
    },
    {
      "cell_type": "markdown",
      "source": [
        "## **ASCENDING ORDER**"
      ],
      "metadata": {
        "id": "GvWhCnR6YExA"
      }
    },
    {
      "cell_type": "code",
      "execution_count": null,
      "metadata": {
        "id": "_zrbQo9eCLJT",
        "colab": {
          "base_uri": "https://localhost:8080/"
        },
        "outputId": "cf5a6e6e-b5bd-4cf7-8840-3af7f9d47605"
      },
      "outputs": [
        {
          "output_type": "stream",
          "name": "stdout",
          "text": [
            "Enter array: [2,5,3,8,6,5,4,7]\n",
            "Sorted array is\n",
            "2 3 4 5 5 6 7 8 "
          ]
        }
      ],
      "source": [
        "#program to implement heap sort technique to arrange elements in ascending order.\n",
        "def heapify(arr, n, i):\n",
        "   largest = i # largest value\n",
        "   l = 2 * i  # left\n",
        "   r = 2 * i + 1 # right\n",
        "   # if left child exists\n",
        "   if l < n and arr[i] < arr[l]:\n",
        "      largest = l\n",
        "   # if right child exits\n",
        "   if r < n and arr[largest] < arr[r]:\n",
        "      largest = r\n",
        "   # root\n",
        "   if largest != i:\n",
        "      arr[i],arr[largest] = arr[largest],arr[i] # swap\n",
        "      # root.\n",
        "      heapify(arr, n, largest)\n",
        "# sort\n",
        "def heapSort(arr):\n",
        "   n = len(arr)\n",
        "   # maxheap\n",
        "   for i in range(n, -1, -1):\n",
        "      heapify(arr, n, i)\n",
        "   # element extraction\n",
        "   for i in range(n-1, 0, -1):\n",
        "      arr[i], arr[0] = arr[0], arr[i] # swap\n",
        "      heapify(arr, i, 0)\n",
        "# main\n",
        "arr = eval(input(\"Enter array: \"))\n",
        "heapSort(arr)\n",
        "n = len(arr)\n",
        "print (\"Sorted array is\")\n",
        "for i in range(n):\n",
        "   print (arr[i],end=\" \")"
      ]
    },
    {
      "cell_type": "markdown",
      "source": [
        "## **DESCENDING ORDER**"
      ],
      "metadata": {
        "id": "qplzXgwOYJKU"
      }
    },
    {
      "cell_type": "code",
      "source": [
        "#Q7. Develop a program to implement heap sort technique to arrange elements in descending order.\n",
        "def heapify(arr, n, i):\n",
        "    smallest = i \n",
        "    l = 2 * i \n",
        "    r = 2 * i + 1 \n",
        "    if l < n and arr[l] < arr[smallest]:\n",
        "        smallest = l\n",
        "    if r < n and arr[r] < arr[smallest]:\n",
        "        smallest = r\n",
        "    if smallest != i:\n",
        "        (arr[i],\n",
        "         arr[smallest]) = (arr[smallest],arr[i])\n",
        "        heapify(arr, n, smallest)\n",
        " \n",
        "def heapSort(arr, n):\n",
        "    for i in range(int(n / 2) - 1, -1, -1):\n",
        "        heapify(arr, n, i)\n",
        "    for i in range(n-1, -1, -1):\n",
        "        arr[0], arr[i] = arr[i], arr[0]\n",
        "        heapify(arr, i, 0)\n",
        "\n",
        "def printArray(arr, n):\n",
        "    for i in range(n):\n",
        "        print(arr[i], end = \" \")\n",
        "    print()\n",
        " \n",
        "if __name__ == '__main__':\n",
        "    arr = eval(input(\"Enter list of elements: \"))\n",
        "    n = len(arr)\n",
        "    heapSort(arr, n)\n",
        "    print(\"Sorted array is \")\n",
        "    printArray(arr, n)"
      ],
      "metadata": {
        "colab": {
          "base_uri": "https://localhost:8080/"
        },
        "id": "lnsqAcKpYMNF",
        "outputId": "90d146d5-dc25-427c-e25e-fbfc2815d3e3"
      },
      "execution_count": null,
      "outputs": [
        {
          "output_type": "stream",
          "name": "stdout",
          "text": [
            "Enter list of elements: [4, 6, 3, 2, 9]\n",
            "Sorted array is \n",
            "9 6 4 3 2 \n"
          ]
        }
      ]
    }
  ]
}