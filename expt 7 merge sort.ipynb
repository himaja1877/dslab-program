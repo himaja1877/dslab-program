{
  "nbformat": 4,
  "nbformat_minor": 0,
  "metadata": {
    "colab": {
      "provenance": [],
      "authorship_tag": "ABX9TyPUolbDna51jt6ZEUvHE/DW",
      "include_colab_link": true
    },
    "kernelspec": {
      "name": "python3",
      "display_name": "Python 3"
    },
    "language_info": {
      "name": "python"
    }
  },
  "cells": [
    {
      "cell_type": "markdown",
      "metadata": {
        "id": "view-in-github",
        "colab_type": "text"
      },
      "source": [
        "<a href=\"https://colab.research.google.com/github/himaja1877/dslab-program/blob/main/expt%207%20merge%20sort.ipynb\" target=\"_parent\"><img src=\"https://colab.research.google.com/assets/colab-badge.svg\" alt=\"Open In Colab\"/></a>"
      ]
    },
    {
      "cell_type": "code",
      "execution_count": null,
      "metadata": {
        "id": "LqCJvG8KukKr",
        "colab": {
          "base_uri": "https://localhost:8080/"
        },
        "outputId": "62ee0ed5-0a28-46f7-f942-766998897d1a"
      },
      "outputs": [
        {
          "output_type": "stream",
          "name": "stdout",
          "text": [
            "Enter the list:[10,5,3,9,11,-4,6]\n",
            "SORTED ARRAY: \n",
            "-4 3 5 6 9 10 11 "
          ]
        }
      ],
      "source": [
        "#merge sort\n",
        "def merge_sort(a):\n",
        "    if len(a)>1:\n",
        "        mid=(len(a))//2\n",
        "        l=a[:mid]\n",
        "        r=a[mid:]\n",
        "        merge_sort(l)\n",
        "        merge_sort(r)\n",
        "        i=j=k=0\n",
        "        while i<len(l) and j<len(r):\n",
        "            if l[i]<r[j]:\n",
        "                a[k]=l[i]\n",
        "                i+=1\n",
        "            else:\n",
        "                a[k]=r[j]\n",
        "                j+=1\n",
        "            k+=1\n",
        "        while i<len(l):\n",
        "            a[k]=l[i]\n",
        "            i+=1\n",
        "            k+=1\n",
        "        while j<len(r):\n",
        "            a[k]=r[j]\n",
        "            j+=1\n",
        "            k+=1\n",
        "def printl(a):\n",
        "    print(a)\n",
        "\n",
        "a=eval(input(\"Enter the list:\"))\n",
        "merge_sort(a)\n",
        "print(\"SORTED ARRAY: \")\n",
        "for i in a:\n",
        "  print(i,end=\" \")\n"
      ]
    }
  ]
}