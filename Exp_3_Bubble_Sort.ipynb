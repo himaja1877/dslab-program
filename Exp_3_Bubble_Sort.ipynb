{
  "nbformat": 4,
  "nbformat_minor": 0,
  "metadata": {
    "colab": {
      "provenance": [],
      "include_colab_link": true
    },
    "kernelspec": {
      "name": "python3",
      "display_name": "Python 3"
    },
    "language_info": {
      "name": "python"
    }
  },
  "cells": [
    {
      "cell_type": "markdown",
      "metadata": {
        "id": "view-in-github",
        "colab_type": "text"
      },
      "source": [
        "<a href=\"https://colab.research.google.com/github/himaja1877/dslab-program/blob/main/Exp_3_Bubble_Sort.ipynb\" target=\"_parent\"><img src=\"https://colab.research.google.com/assets/colab-badge.svg\" alt=\"Open In Colab\"/></a>"
      ]
    },
    {
      "cell_type": "code",
      "execution_count": null,
      "metadata": {
        "colab": {
          "base_uri": "https://localhost:8080/"
        },
        "id": "z5ShpGbmtEv3",
        "outputId": "4252b88e-752c-40d5-81eb-596df93c1adb"
      },
      "outputs": [
        {
          "output_type": "stream",
          "name": "stdout",
          "text": [
            "Enter the list:[-1,9,3,2,7,4,-8]\n",
            "SORTED ARRAY IS: -8 -1 2 3 4 7 9 "
          ]
        }
      ],
      "source": [
        "#bubble sort\n",
        "def bubble_sort(a):\n",
        "    for i in range(0,len(a)):\n",
        "        for j in range(0,len(a)-1):\n",
        "            if a[j]>a[j+1]:\n",
        "                a[j],a[j+1]=a[j+1],a[j]\n",
        "                j-=1\n",
        "    return l\n",
        "   \n",
        "l=eval(input(\"Enter the list:\"))\n",
        "print(\"SORTED ARRAY IS:\",end=\" \")\n",
        "bubble_sort(l)\n",
        "for i in l:\n",
        "  print(i,end=\" \")"
      ]
    }
  ]
}