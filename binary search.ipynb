{
  "nbformat": 4,
  "nbformat_minor": 0,
  "metadata": {
    "colab": {
      "provenance": [],
      "authorship_tag": "ABX9TyMBKOXC2Ge2nQXXKnN2pRJe",
      "include_colab_link": true
    },
    "kernelspec": {
      "name": "python3",
      "display_name": "Python 3"
    },
    "language_info": {
      "name": "python"
    }
  },
  "cells": [
    {
      "cell_type": "markdown",
      "metadata": {
        "id": "view-in-github",
        "colab_type": "text"
      },
      "source": [
        "<a href=\"https://colab.research.google.com/github/himaja1877/dslab-program/blob/main/binary%20search.ipynb\" target=\"_parent\"><img src=\"https://colab.research.google.com/assets/colab-badge.svg\" alt=\"Open In Colab\"/></a>"
      ]
    },
    {
      "cell_type": "code",
      "execution_count": null,
      "metadata": {
        "colab": {
          "base_uri": "https://localhost:8080/"
        },
        "id": "gPmFk-H_qJZY",
        "outputId": "8866bb87-a238-47b9-c7a9-75addbab1def"
      },
      "outputs": [
        {
          "output_type": "stream",
          "name": "stdout",
          "text": [
            "Enter the list:[-1,10,4,9,5,-2,3]\n",
            "Enter element to search:4\n",
            "FOUND ELEMENT 4\n"
          ]
        }
      ],
      "source": [
        "#binary_search\n",
        "def binary_search(l,pivot,low,high,mid,arr):\n",
        "    flag=0\n",
        "    l.sort()\n",
        "    while flag!=1:\n",
        "        if pivot==l[mid]:\n",
        "            print(\"FOUND ELEMENT\",pivot)\n",
        "            flag=1\n",
        "        elif pivot<l[mid]:\n",
        "            high=mid-1\n",
        "        elif pivot>l[mid]:\n",
        "            low=mid+1\n",
        "        mid=(low+high)//2\n",
        "    if flag==0:\n",
        "        print(\"NOT FOUND\")\n",
        "\n",
        "l=eval(input(\"Enter the list:\"))\n",
        "pivot=eval(input(\"Enter element to search:\"))\n",
        "low=0\n",
        "high=len(l)-1\n",
        "mid=(low+high)//2\n",
        "arr=l\n",
        "binary_search(l,pivot,low,high,mid,arr)"
      ]
    }
  ]
}