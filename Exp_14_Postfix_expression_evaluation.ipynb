{
  "nbformat": 4,
  "nbformat_minor": 0,
  "metadata": {
    "colab": {
      "provenance": [],
      "include_colab_link": true
    },
    "kernelspec": {
      "name": "python3",
      "display_name": "Python 3"
    },
    "language_info": {
      "name": "python"
    }
  },
  "cells": [
    {
      "cell_type": "markdown",
      "metadata": {
        "id": "view-in-github",
        "colab_type": "text"
      },
      "source": [
        "<a href=\"https://colab.research.google.com/github/himaja1877/dslab-program/blob/main/Exp_14_Postfix_expression_evaluation.ipynb\" target=\"_parent\"><img src=\"https://colab.research.google.com/assets/colab-badge.svg\" alt=\"Open In Colab\"/></a>"
      ]
    },
    {
      "cell_type": "code",
      "execution_count": null,
      "metadata": {
        "colab": {
          "base_uri": "https://localhost:8080/"
        },
        "id": "FT-sCL5Z4-cZ",
        "outputId": "8c46507c-d770-4c31-c82f-80a2634c4147"
      },
      "outputs": [
        {
          "output_type": "stream",
          "name": "stdout",
          "text": [
            "Enter the postfix expression:10 20 + 30 *\n",
            "RESULT: 900\n"
          ]
        }
      ],
      "source": [
        "#evaluate the given postfix expression\n",
        "class Stack:\n",
        "  def __init__(self,max):\n",
        "    self.max=max\n",
        "    self.top=-1\n",
        "    self.data=[]\n",
        "  def push(self,ele):\n",
        "    self.ele=ele\n",
        "    if self.top+1>self.max:\n",
        "      print(\"Stack overflow\")\n",
        "    else:\n",
        "      self.top=self.top+1\n",
        "      self.data.insert(self.top,ele)\n",
        "  def pop(self):\n",
        "    if self.top<0:\n",
        "      return -1\n",
        "    else:\n",
        "      ele=self.data[self.top]\n",
        "      self.top = (self.top) - 1\n",
        "      return ele\n",
        "  def display(self):\n",
        "    while self.top!=-1:\n",
        "      print(self.data[self.top])\n",
        "      self.top-=1\n",
        "  def isempty(self):\n",
        "    if self.top==-1:\n",
        "      return True\n",
        "    else:\n",
        "      return False\n",
        "  def isfull(self):\n",
        "    if self.top>=self.max:\n",
        "      return True\n",
        "    else:\n",
        "      return False\n",
        "  def peak(self):\n",
        "    return self.data[self.top]\n",
        "    \n",
        "operator_list={'^':0,'*':1,'/':1,'+':2,'-':2,'(':3,')':3}\n",
        "def isoper(chr):\n",
        "  if chr in operator_list.keys():\n",
        "    return True\n",
        "  else:\n",
        "    return False\n",
        "def priority(chr):\n",
        "  return operator_list.get(chr)\n",
        "\n",
        "count=0\n",
        "s1=Stack(100)\n",
        "expression=input(\"Enter the postfix expression:\")\n",
        "expression_elements=expression.split(' ')\n",
        "\n",
        "def isoper(chr):\n",
        "  if chr in ['+','-','*','/','%']:\n",
        "    return True\n",
        "  else:\n",
        "    return False\n",
        "def calculate(op1,op2,i):\n",
        "  op1=int(op1)\n",
        "  op2=int(op2)\n",
        "  res=0\n",
        "  if i=='+':\n",
        "    res=op1+op2\n",
        "  elif i=='-':\n",
        "    res=op1-op2\n",
        "  elif i=='*':\n",
        "    res=op1 * op2\n",
        "  elif i=='/':\n",
        "    res=op1/op2\n",
        "  elif i=='%':\n",
        "    res=op1%op2\n",
        "  return res\n",
        "\n",
        "for i in expression_elements:\n",
        "  if isoper(i)!=True:\n",
        "    s1.push(i)\n",
        "  else:\n",
        "    op2=s1.pop()\n",
        "    op1=s1.pop()\n",
        "    res=calculate(op1,op2,i)\n",
        "    s1.push(res)\n",
        "print(\"RESULT:\",s1.pop())\n"
      ]
    }
  ]
}