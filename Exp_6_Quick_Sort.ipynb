{
  "nbformat": 4,
  "nbformat_minor": 0,
  "metadata": {
    "colab": {
      "provenance": [],
      "include_colab_link": true
    },
    "kernelspec": {
      "name": "python3",
      "display_name": "Python 3"
    },
    "language_info": {
      "name": "python"
    }
  },
  "cells": [
    {
      "cell_type": "markdown",
      "metadata": {
        "id": "view-in-github",
        "colab_type": "text"
      },
      "source": [
        "<a href=\"https://colab.research.google.com/github/himaja1877/dslab-program/blob/main/Exp_6_Quick_Sort.ipynb\" target=\"_parent\"><img src=\"https://colab.research.google.com/assets/colab-badge.svg\" alt=\"Open In Colab\"/></a>"
      ]
    },
    {
      "cell_type": "code",
      "execution_count": null,
      "metadata": {
        "colab": {
          "base_uri": "https://localhost:8080/"
        },
        "id": "WCJvWLAgud2s",
        "outputId": "3e2f9731-a19e-4961-8862-0ca3df7b97e3"
      },
      "outputs": [
        {
          "output_type": "stream",
          "name": "stdout",
          "text": [
            "Enter the list: [10,5,3,9,11,-4,6]\n",
            "SORTED ARRAY IS:  -4 3 5 6 9 10 11 "
          ]
        }
      ],
      "source": [
        "#quick sort\n",
        "def partition(array, low, high):\n",
        "    pivot = array[high]\n",
        "    i = low - 1\n",
        "    for j in range(low, high):\n",
        "        if array[j] <= pivot:\n",
        "            i = i + 1\n",
        "            (array[i], array[j]) = (array[j], array[i])\n",
        "    (array[i + 1], array[high]) = (array[high], array[i + 1])\n",
        "    return i + 1\n",
        "   \n",
        "def quick_sort(array, low, high):\n",
        "    if low < high:\n",
        "        pi = partition(array, low, high)\n",
        "        quick_sort(array, low, pi - 1)\n",
        "        quick_sort(array, pi + 1, high)\n",
        "\n",
        "\n",
        "array=eval(input(\"Enter the list: \"))\n",
        "#partition(array, low, high)\n",
        "low=0\n",
        "high=len(array)-1\n",
        "quick_sort(array,low,high)\n",
        "print(\"SORTED ARRAY IS: \",end=\" \")\n",
        "for i in array:\n",
        "  print(i,end=\" \")"
      ]
    }
  ]
}