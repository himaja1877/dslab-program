{
  "nbformat": 4,
  "nbformat_minor": 0,
  "metadata": {
    "colab": {
      "provenance": [],
      "include_colab_link": true
    },
    "kernelspec": {
      "name": "python3",
      "display_name": "Python 3"
    },
    "language_info": {
      "name": "python"
    }
  },
  "cells": [
    {
      "cell_type": "markdown",
      "metadata": {
        "id": "view-in-github",
        "colab_type": "text"
      },
      "source": [
        "<a href=\"https://colab.research.google.com/github/himaja1877/dslab-program/blob/main/Exp_13_String_Reversal.ipynb\" target=\"_parent\"><img src=\"https://colab.research.google.com/assets/colab-badge.svg\" alt=\"Open In Colab\"/></a>"
      ]
    },
    {
      "cell_type": "code",
      "execution_count": null,
      "metadata": {
        "colab": {
          "base_uri": "https://localhost:8080/"
        },
        "id": "VK4dxZ7u4dak",
        "outputId": "5000d393-64f6-4518-a95c-e460d75f80b9"
      },
      "outputs": [
        {
          "output_type": "stream",
          "name": "stdout",
          "text": [
            "Enter the word/string:apple\n",
            "Reversed string is:- elppa"
          ]
        }
      ],
      "source": [
        "#to perform the reverse of the given string.\n",
        "class Stack:\n",
        "  def __init__(self,max):\n",
        "    self.max=max\n",
        "    self.top=-1\n",
        "    self.data=[]\n",
        "  def push(self,ele):\n",
        "    self.ele=ele\n",
        "    if self.top+1>self.max:\n",
        "      print(\"Stack overflow\")\n",
        "    else:\n",
        "      self.top=self.top+1\n",
        "      self.data.insert(self.top,ele)\n",
        "  def pop(self):\n",
        "    if self.top<0:\n",
        "      print(\"Stack underflow\")\n",
        "    else:\n",
        "      print(self.data[self.top],end=\"\")\n",
        "      self.top=self.top-1\n",
        "      #self.data.pop()\n",
        "\n",
        "count=0\n",
        "stc=Stack(100)\n",
        "word=input(\"Enter the word/string:\")\n",
        "for i in word:\n",
        "  stc.push(i)\n",
        "  count+=1\n",
        "print(\"Reversed string is:-\",end=\" \")\n",
        "for i in range(count):\n",
        "  stc.pop()\n"
      ]
    }
  ]
}