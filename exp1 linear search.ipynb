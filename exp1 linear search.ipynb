{
  "nbformat": 4,
  "nbformat_minor": 0,
  "metadata": {
    "colab": {
      "provenance": [],
      "authorship_tag": "ABX9TyNokeitPvgcGzs51b8bMBQf",
      "include_colab_link": true
    },
    "kernelspec": {
      "name": "python3",
      "display_name": "Python 3"
    },
    "language_info": {
      "name": "python"
    }
  },
  "cells": [
    {
      "cell_type": "markdown",
      "metadata": {
        "id": "view-in-github",
        "colab_type": "text"
      },
      "source": [
        "<a href=\"https://colab.research.google.com/github/himaja1877/dslab-program/blob/main/exp1%20linear%20search.ipynb\" target=\"_parent\"><img src=\"https://colab.research.google.com/assets/colab-badge.svg\" alt=\"Open In Colab\"/></a>"
      ]
    },
    {
      "cell_type": "code",
      "execution_count": 1,
      "metadata": {
        "colab": {
          "base_uri": "https://localhost:8080/"
        },
        "id": "NYE_IrTpHzNz",
        "outputId": "e15c0263-d903-475a-f2c1-07b1228ef4ba"
      },
      "outputs": [
        {
          "output_type": "stream",
          "name": "stdout",
          "text": [
            "Enter the list:2,4,5,7,9,9\n",
            "Enter element to search:7\n",
            "FOUND at position 4\n"
          ]
        }
      ],
      "source": [
        "#linear search\n",
        "def linear_search(l,e):\n",
        "    flag=0\n",
        "    for i in range(len(l)):\n",
        "        if l[i]==e:\n",
        "            print(\"FOUND at position\",i+1)\n",
        "            flag=1\n",
        "    if flag==0:\n",
        "        print(\"NOT FOUND\")\n",
        "       \n",
        "l=eval(input(\"Enter the list:\"))\n",
        "e=eval(input(\"Enter element to search:\"))\n",
        "linear_search(l,e)"
      ]
    }
  ]
}