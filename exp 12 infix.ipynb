{
  "nbformat": 4,
  "nbformat_minor": 0,
  "metadata": {
    "colab": {
      "provenance": [],
      "authorship_tag": "ABX9TyPN5feY8DEDJow+dWHPf9xg",
      "include_colab_link": true
    },
    "kernelspec": {
      "name": "python3",
      "display_name": "Python 3"
    },
    "language_info": {
      "name": "python"
    }
  },
  "cells": [
    {
      "cell_type": "markdown",
      "metadata": {
        "id": "view-in-github",
        "colab_type": "text"
      },
      "source": [
        "<a href=\"https://colab.research.google.com/github/himaja1877/dslab-program/blob/main/exp%2012%20infix.ipynb\" target=\"_parent\"><img src=\"https://colab.research.google.com/assets/colab-badge.svg\" alt=\"Open In Colab\"/></a>"
      ]
    },
    {
      "cell_type": "code",
      "execution_count": null,
      "metadata": {
        "colab": {
          "base_uri": "https://localhost:8080/"
        },
        "id": "2hJAJRFm3l3B",
        "outputId": "8ab13823-6928-4626-e803-3a02716b572b"
      },
      "outputs": [
        {
          "output_type": "stream",
          "name": "stdout",
          "text": [
            "ENTER INFIX EXPRESSION:a * b - c / d + e\n",
            "POSTFIX EXPRESSION IS:  a b * c d / e + - "
          ]
        }
      ],
      "source": [
        "#to convert a given infix expression into postfix\n",
        "class Stack:\n",
        "  def __init__(self,max):\n",
        "    self.max=max\n",
        "    self.top=-1\n",
        "    self.data=[]\n",
        "  def push(self,ele):\n",
        "    self.ele=ele\n",
        "    if self.top+1>self.max:\n",
        "      print(\"Stack overflow\")\n",
        "    else:\n",
        "      self.top=self.top+1\n",
        "      self.data.insert(self.top,ele)\n",
        "  def pop(self):\n",
        "    if self.top<0:\n",
        "      return -1\n",
        "    else:\n",
        "      ele=self.data[self.top]\n",
        "      self.top = (self.top) - 1\n",
        "      return ele\n",
        "  def display(self):\n",
        "    while self.top!=-1:\n",
        "      print(self.data[self.top])\n",
        "      self.top-=1\n",
        "  def isempty(self):\n",
        "    if self.top==-1:\n",
        "      return True\n",
        "    else:\n",
        "      return False\n",
        "  def isfull(self):\n",
        "    if self.top>=self.max:\n",
        "      return True\n",
        "    else:\n",
        "      return False\n",
        "  def peak(self):\n",
        "    return self.data[self.top]\n",
        "\n",
        "count=0\n",
        "s1=Stack(100)\n",
        "\n",
        "operator_list={'^':0,'*':1,'/':1,'+':2,'-':2,'(':3,')':3}\n",
        "def isoper(chr):\n",
        "  if chr in operator_list.keys():\n",
        "    return True\n",
        "  else:\n",
        "    return False\n",
        "def priority(chr):\n",
        "  return operator_list.get(chr)\n",
        "\n",
        "expression=input(\"ENTER INFIX EXPRESSION:\")\n",
        "print(\"POSTFIX EXPRESSION IS: \",end=\" \")\n",
        "expression_elements=expression.split(' ')\n",
        "\n",
        "for i in range(len(expression_elements)):\n",
        "  ics=expression_elements[i]\n",
        "  if isoper(ics):\n",
        "     if s1.isempty():\n",
        "       s1.push(ics)\n",
        "     elif ics==')':\n",
        "       while s1.peak() != '(':\n",
        "         print(s1.pop(),end=' ')\n",
        "       s1.pop()\n",
        "     else:\n",
        "       while priority(s1.peak())<priority(ics) and s1.isempty()==False:\n",
        "          print(s1.pop(),end=' ')\n",
        "       s1.push(ics)\n",
        "  else:\n",
        "    print(ics,end=' ')\n",
        "while True:\n",
        "  ele=s1.pop()\n",
        "  if ele!= -1:\n",
        "    print(ele,end=' ')\n",
        "  else:\n",
        "    break"
      ]
    }
  ]
}