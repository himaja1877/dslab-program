{
  "nbformat": 4,
  "nbformat_minor": 0,
  "metadata": {
    "colab": {
      "provenance": [],
      "include_colab_link": true
    },
    "kernelspec": {
      "name": "python3",
      "display_name": "Python 3"
    },
    "language_info": {
      "name": "python"
    }
  },
  "cells": [
    {
      "cell_type": "markdown",
      "metadata": {
        "id": "view-in-github",
        "colab_type": "text"
      },
      "source": [
        "<a href=\"https://colab.research.google.com/github/himaja1877/dslab-program/blob/main/Exp_17_BST_%26_search_operation.ipynb\" target=\"_parent\"><img src=\"https://colab.research.google.com/assets/colab-badge.svg\" alt=\"Open In Colab\"/></a>"
      ]
    },
    {
      "cell_type": "code",
      "execution_count": null,
      "metadata": {
        "id": "3tvHs1Za_SaH",
        "colab": {
          "base_uri": "https://localhost:8080/"
        },
        "outputId": "800feb6b-3f03-4276-cf89-2e8ad84b1389"
      },
      "outputs": [
        {
          "name": "stdout",
          "output_type": "stream",
          "text": [
            "Enter root node:12\n",
            "Enter node:6\n",
            "Do you wish to continue entering?(y/n)y\n",
            "Enter node:14\n",
            "Do you wish to continue entering?(y/n)y\n",
            "Enter node:3\n",
            "Do you wish to continue entering?(y/n)n\n",
            "\n",
            "Enter element to search:7\n",
            "7 Not Found\n",
            "Do you wish to continue searching?(y/n)y\n",
            "Enter element to search:14\n",
            "14 is found\n",
            "Do you wish to continue searching?(y/n)n\n"
          ]
        }
      ],
      "source": [
        "class Node:\n",
        "   def __init__(self, data):\n",
        "      self.left = None\n",
        "      self.right = None\n",
        "      self.data = data\n",
        "# Insert method to create nodes\n",
        "   def insert(self, data):\n",
        "      if self.data:\n",
        "         if data < self.data:\n",
        "            if self.left is None:\n",
        "               self.left = Node(data)\n",
        "            else:\n",
        "               self.left.insert(data)\n",
        "         elif data > self.data:\n",
        "               if self.right is None:\n",
        "                  self.right = Node(data)\n",
        "               else:\n",
        "                  self.right.insert(data)\n",
        "         else:\n",
        "            self.data = data\n",
        "# findval method to compare the value with nodes\n",
        "   def findval(self, lkpval):\n",
        "      if lkpval < self.data:\n",
        "         if self.left is None:\n",
        "            return str(lkpval)+\" Not Found\"\n",
        "         return self.left.findval(lkpval)\n",
        "      elif lkpval > self.data:\n",
        "          if self.right is None:\n",
        "              return str(lkpval)+\" Not Found\"\n",
        "          return self.right.findval(lkpval)\n",
        "      else:\n",
        "           return str(self.data) + ' is found'\n",
        "# Print the tree\n",
        "   def PrintTree(self):\n",
        "      if self.left:\n",
        "         self.left.PrintTree()\n",
        "      print( self.data),\n",
        "      if self.right:\n",
        "         self.right.PrintTree()\n",
        "\n",
        "r=eval(input(\"Enter root node:\"))\n",
        "root = Node(r)\n",
        "c='y'\n",
        "while c=='y':\n",
        "  r1=eval(input(\"Enter node:\"))\n",
        "  root.insert(r1)\n",
        "  c=input(\"Do you wish to continue entering?(y/n)\")\n",
        "ch='y'\n",
        "print()\n",
        "while ch==\"y\":\n",
        "  s=eval(input(\"Enter element to search:\"))\n",
        "  print(root.findval(s))\n",
        "  ch=input(\"Do you wish to continue searching?(y/n)\")\n"
      ]
    }
  ]
}