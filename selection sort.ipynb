{
  "nbformat": 4,
  "nbformat_minor": 0,
  "metadata": {
    "colab": {
      "provenance": [],
      "authorship_tag": "ABX9TyNW5GEAeebSO4mlmd+7e/mM",
      "include_colab_link": true
    },
    "kernelspec": {
      "name": "python3",
      "display_name": "Python 3"
    },
    "language_info": {
      "name": "python"
    }
  },
  "cells": [
    {
      "cell_type": "markdown",
      "metadata": {
        "id": "view-in-github",
        "colab_type": "text"
      },
      "source": [
        "<a href=\"https://colab.research.google.com/github/himaja1877/dslab-program/blob/main/selection%20sort.ipynb\" target=\"_parent\"><img src=\"https://colab.research.google.com/assets/colab-badge.svg\" alt=\"Open In Colab\"/></a>"
      ]
    },
    {
      "cell_type": "code",
      "execution_count": null,
      "metadata": {
        "colab": {
          "base_uri": "https://localhost:8080/"
        },
        "id": "o9mEacr-tz3h",
        "outputId": "0f47bb42-d54a-449b-83ef-871932f7b420"
      },
      "outputs": [
        {
          "output_type": "stream",
          "name": "stdout",
          "text": [
            "Enter the list: [2,6,1,3,7,-8,10,4]\n",
            "SORTED ARRAY IS:  -8 1 2 3 4 6 7 10 "
          ]
        }
      ],
      "source": [
        "#selection sort\n",
        "def selection_sort(l):\n",
        "    for i in range(0,len(l)-1):\n",
        "        min=i\n",
        "        for j in range(i+1,len(l)):\n",
        "            if l[j]<l[min]:\n",
        "                min=j\n",
        "        l[i],l[min]=l[min],l[i]\n",
        "    return l\n",
        "\n",
        "l=eval(input(\"Enter the list: \"))\n",
        "selection_sort(l)\n",
        "print(\"SORTED ARRAY IS: \",end=\" \")\n",
        "for i in l:\n",
        "  print(i,end=\" \")"
      ]
    }
  ]
}