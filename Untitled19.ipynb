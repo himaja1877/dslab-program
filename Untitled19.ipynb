{
  "nbformat": 4,
  "nbformat_minor": 0,
  "metadata": {
    "colab": {
      "provenance": [],
      "authorship_tag": "ABX9TyMEJL4Fv4O5lWdFcxY4HzHn",
      "include_colab_link": true
    },
    "kernelspec": {
      "name": "python3",
      "display_name": "Python 3"
    },
    "language_info": {
      "name": "python"
    }
  },
  "cells": [
    {
      "cell_type": "markdown",
      "metadata": {
        "id": "view-in-github",
        "colab_type": "text"
      },
      "source": [
        "<a href=\"https://colab.research.google.com/github/himaja1877/dslab-program/blob/main/Untitled19.ipynb\" target=\"_parent\"><img src=\"https://colab.research.google.com/assets/colab-badge.svg\" alt=\"Open In Colab\"/></a>"
      ]
    },
    {
      "cell_type": "code",
      "execution_count": 1,
      "metadata": {
        "id": "zFCWHrttyFcY"
      },
      "outputs": [],
      "source": [
        "class Node:\n",
        "    def _init_(self, val):\n",
        "        self.val = val\n",
        "        self.left = None\n",
        "        self.right = None\n",
        "\n",
        "class BinarySearchTree:\n",
        "    def _init_(self):\n",
        "        self.root = None\n",
        "\n",
        "    def insert(self, val):\n",
        "        new_node = Node(val)\n",
        "        if self.root is None:\n",
        "            self.root = new_node\n",
        "            return\n",
        "\n",
        "        current = self.root\n",
        "        while True:\n",
        "            if val < current.val:\n",
        "                if current.left is None:\n",
        "                    current.left = new_node\n",
        "                    break\n",
        "                current = current.left\n",
        "            else:\n",
        "                if current.right is None:\n",
        "                    current.right = new_node\n",
        "                    break\n",
        "                current = current.right\n",
        "\n",
        "    def pre_order(self, root):\n",
        "        if root is None:\n",
        "            return\n",
        "        print(root.val)\n",
        "        self.pre_order(root.left)\n",
        "        self.pre_order(root.right)\n",
        "\n",
        "    def search(self, val):\n",
        "        if self.root is None:\n",
        "            return False\n",
        "\n",
        "        current = self.root\n",
        "        while current is not None:\n",
        "            if val < current.val:\n",
        "                current = current.left\n",
        "            elif val > current.val:\n",
        "                current = current.right\n",
        "            else:\n",
        "                return True\n",
        "\n",
        "        return False"
      ]
    }
  ]
}